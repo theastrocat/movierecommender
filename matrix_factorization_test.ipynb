{
 "cells": [
  {
   "cell_type": "code",
   "execution_count": 1,
   "metadata": {
    "collapsed": true
   },
   "outputs": [],
   "source": [
    "import pyspark as ps\n",
    "from pyspark.sql import SparkSession\n",
    "from pyspark.ml.recommendation import ALS\n",
    "import pandas as pd\n",
    "import numpy as np"
   ]
  },
  {
   "cell_type": "code",
   "execution_count": 2,
   "metadata": {
    "collapsed": true
   },
   "outputs": [],
   "source": [
    "spark = SparkSession.builder.getOrCreate()"
   ]
  },
  {
   "cell_type": "code",
   "execution_count": 3,
   "metadata": {
    "collapsed": false
   },
   "outputs": [],
   "source": [
    "ratings_df = pd.read_csv('data/training.csv')\n",
    "train_df = ratings_df.sort_values('timestamp', ascending=True)[:-100000]"
   ]
  },
  {
   "cell_type": "code",
   "execution_count": 4,
   "metadata": {
    "collapsed": false
   },
   "outputs": [
    {
     "name": "stdout",
     "output_type": "stream",
     "text": [
      "<class 'pandas.core.frame.DataFrame'>\n",
      "RangeIndex: 800000 entries, 0 to 799999\n",
      "Data columns (total 4 columns):\n",
      "user         800000 non-null int64\n",
      "movie        800000 non-null int64\n",
      "rating       800000 non-null int64\n",
      "timestamp    800000 non-null int64\n",
      "dtypes: int64(4)\n",
      "memory usage: 24.4 MB\n"
     ]
    }
   ],
   "source": [
    "ratings_df.info()"
   ]
  },
  {
   "cell_type": "code",
   "execution_count": 5,
   "metadata": {
    "collapsed": false
   },
   "outputs": [],
   "source": [
    "ratings_spark_df = spark.createDataFrame(ratings_df)"
   ]
  },
  {
   "cell_type": "code",
   "execution_count": 6,
   "metadata": {
    "collapsed": true
   },
   "outputs": [],
   "source": [
    "ratings_spark_df = ratings_spark_df.drop('timestamp')"
   ]
  },
  {
   "cell_type": "code",
   "execution_count": 7,
   "metadata": {
    "collapsed": false
   },
   "outputs": [],
   "source": [
    "als_model = ALS(\n",
    "    itemCol='user',\n",
    "    userCol='movie',\n",
    "    ratingCol='rating',\n",
    "    nonnegative=True,    \n",
    "    regParam=0.1,\n",
    "    rank=10\n",
    "    )"
   ]
  },
  {
   "cell_type": "code",
   "execution_count": 10,
   "metadata": {
    "collapsed": true
   },
   "outputs": [],
   "source": [
    "from src.recommender import MovieRecommender as MR"
   ]
  },
  {
   "cell_type": "code",
   "execution_count": 11,
   "metadata": {
    "collapsed": true
   },
   "outputs": [],
   "source": [
    "ratings_fit = als_model.fit(ratings_spark_df)"
   ]
  },
  {
   "cell_type": "code",
   "execution_count": 45,
   "metadata": {
    "collapsed": true
   },
   "outputs": [],
   "source": [
    "requests = spark.read.csv('data/requests.csv', header=True, schema = schema, inferSchema=False)"
   ]
  },
  {
   "cell_type": "code",
   "execution_count": 26,
   "metadata": {
    "collapsed": true
   },
   "outputs": [],
   "source": [
    "def casting_function(row):\n",
    "    id, movie = row\n",
    "    return int(id), int(movie)"
   ]
  },
  {
   "cell_type": "code",
   "execution_count": 27,
   "metadata": {
    "collapsed": false
   },
   "outputs": [
    {
     "data": {
      "text/plain": [
       "pyspark.sql.dataframe.DataFrame"
      ]
     },
     "execution_count": 27,
     "metadata": {},
     "output_type": "execute_result"
    }
   ],
   "source": [
    "type(requests)"
   ]
  },
  {
   "cell_type": "code",
   "execution_count": null,
   "metadata": {
    "collapsed": true
   },
   "outputs": [],
   "source": []
  },
  {
   "cell_type": "code",
   "execution_count": 46,
   "metadata": {
    "collapsed": false
   },
   "outputs": [],
   "source": [
    "requests = requests.rdd.map(casting_function)"
   ]
  },
  {
   "cell_type": "code",
   "execution_count": 37,
   "metadata": {
    "collapsed": true
   },
   "outputs": [],
   "source": [
    "from pyspark.sql.types import *"
   ]
  },
  {
   "cell_type": "code",
   "execution_count": 47,
   "metadata": {
    "collapsed": false
   },
   "outputs": [],
   "source": [
    "schema = StructType( [\n",
    "        StructField('user', IntegerType(), True),\n",
    "        StructField('movie', IntegerType(), True)])"
   ]
  },
  {
   "cell_type": "code",
   "execution_count": 48,
   "metadata": {
    "collapsed": false
   },
   "outputs": [],
   "source": [
    "requests = spark.createDataFrame(requests, schema)"
   ]
  },
  {
   "cell_type": "code",
   "execution_count": 49,
   "metadata": {
    "collapsed": false,
    "scrolled": false
   },
   "outputs": [
    {
     "name": "stdout",
     "output_type": "stream",
     "text": [
      "root\n",
      " |-- user: integer (nullable = true)\n",
      " |-- movie: integer (nullable = true)\n",
      "\n"
     ]
    }
   ],
   "source": [
    "requests.printSchema()"
   ]
  },
  {
   "cell_type": "code",
   "execution_count": 50,
   "metadata": {
    "collapsed": false
   },
   "outputs": [
    {
     "name": "stdout",
     "output_type": "stream",
     "text": [
      "+----+-----+\n",
      "|user|movie|\n",
      "+----+-----+\n",
      "|4958| 1924|\n",
      "|4958| 3264|\n",
      "|4958| 2634|\n",
      "|4958| 1407|\n",
      "|4958| 2399|\n",
      "|4958| 3489|\n",
      "|4958| 2043|\n",
      "|4958| 2453|\n",
      "|5312| 3267|\n",
      "|5948| 3098|\n",
      "|5948| 1180|\n",
      "|3158| 2648|\n",
      "| 403| 1036|\n",
      "|3693|  468|\n",
      "|5950| 1262|\n",
      "|5950| 3555|\n",
      "|5950| 3793|\n",
      "|5950| 3578|\n",
      "|5950| 3948|\n",
      "|5950| 3893|\n",
      "+----+-----+\n",
      "only showing top 20 rows\n",
      "\n"
     ]
    }
   ],
   "source": [
    "requests.show()"
   ]
  },
  {
   "cell_type": "code",
   "execution_count": 53,
   "metadata": {
    "collapsed": false
   },
   "outputs": [],
   "source": [
    "preds = ratings_fit.transform(requests).collect()"
   ]
  },
  {
   "cell_type": "code",
   "execution_count": 69,
   "metadata": {
    "collapsed": false
   },
   "outputs": [],
   "source": [
    "preds_df = pd.DataFrame(preds, columns=['user', 'movie', 'rating'])"
   ]
  },
  {
   "cell_type": "code",
   "execution_count": 70,
   "metadata": {
    "collapsed": false
   },
   "outputs": [
    {
     "name": "stdout",
     "output_type": "stream",
     "text": [
      "<class 'pandas.core.frame.DataFrame'>\n",
      "RangeIndex: 200209 entries, 0 to 200208\n",
      "Data columns (total 3 columns):\n",
      "user      200209 non-null int64\n",
      "movie     200209 non-null int64\n",
      "rating    104439 non-null float64\n",
      "dtypes: float64(1), int64(2)\n",
      "memory usage: 4.6 MB\n"
     ]
    }
   ],
   "source": [
    "preds_df.info()"
   ]
  },
  {
   "cell_type": "code",
   "execution_count": 71,
   "metadata": {
    "collapsed": false
   },
   "outputs": [
    {
     "data": {
      "text/html": [
       "<div>\n",
       "<table border=\"1\" class=\"dataframe\">\n",
       "  <thead>\n",
       "    <tr style=\"text-align: right;\">\n",
       "      <th></th>\n",
       "      <th>user</th>\n",
       "      <th>movie</th>\n",
       "      <th>rating</th>\n",
       "    </tr>\n",
       "  </thead>\n",
       "  <tbody>\n",
       "    <tr>\n",
       "      <th>0</th>\n",
       "      <td>148</td>\n",
       "      <td>1088</td>\n",
       "      <td>NaN</td>\n",
       "    </tr>\n",
       "    <tr>\n",
       "      <th>1</th>\n",
       "      <td>148</td>\n",
       "      <td>1580</td>\n",
       "      <td>NaN</td>\n",
       "    </tr>\n",
       "    <tr>\n",
       "      <th>2</th>\n",
       "      <td>148</td>\n",
       "      <td>2122</td>\n",
       "      <td>NaN</td>\n",
       "    </tr>\n",
       "    <tr>\n",
       "      <th>3</th>\n",
       "      <td>148</td>\n",
       "      <td>2142</td>\n",
       "      <td>NaN</td>\n",
       "    </tr>\n",
       "    <tr>\n",
       "      <th>4</th>\n",
       "      <td>148</td>\n",
       "      <td>2366</td>\n",
       "      <td>NaN</td>\n",
       "    </tr>\n",
       "    <tr>\n",
       "      <th>5</th>\n",
       "      <td>148</td>\n",
       "      <td>3175</td>\n",
       "      <td>NaN</td>\n",
       "    </tr>\n",
       "    <tr>\n",
       "      <th>6</th>\n",
       "      <td>148</td>\n",
       "      <td>858</td>\n",
       "      <td>NaN</td>\n",
       "    </tr>\n",
       "    <tr>\n",
       "      <th>7</th>\n",
       "      <td>148</td>\n",
       "      <td>1127</td>\n",
       "      <td>NaN</td>\n",
       "    </tr>\n",
       "    <tr>\n",
       "      <th>8</th>\n",
       "      <td>148</td>\n",
       "      <td>1721</td>\n",
       "      <td>NaN</td>\n",
       "    </tr>\n",
       "    <tr>\n",
       "      <th>9</th>\n",
       "      <td>148</td>\n",
       "      <td>3698</td>\n",
       "      <td>NaN</td>\n",
       "    </tr>\n",
       "    <tr>\n",
       "      <th>10</th>\n",
       "      <td>148</td>\n",
       "      <td>1270</td>\n",
       "      <td>NaN</td>\n",
       "    </tr>\n",
       "    <tr>\n",
       "      <th>11</th>\n",
       "      <td>148</td>\n",
       "      <td>2393</td>\n",
       "      <td>NaN</td>\n",
       "    </tr>\n",
       "    <tr>\n",
       "      <th>12</th>\n",
       "      <td>148</td>\n",
       "      <td>3704</td>\n",
       "      <td>NaN</td>\n",
       "    </tr>\n",
       "    <tr>\n",
       "      <th>13</th>\n",
       "      <td>148</td>\n",
       "      <td>808</td>\n",
       "      <td>NaN</td>\n",
       "    </tr>\n",
       "    <tr>\n",
       "      <th>14</th>\n",
       "      <td>148</td>\n",
       "      <td>2748</td>\n",
       "      <td>NaN</td>\n",
       "    </tr>\n",
       "    <tr>\n",
       "      <th>15</th>\n",
       "      <td>148</td>\n",
       "      <td>2096</td>\n",
       "      <td>NaN</td>\n",
       "    </tr>\n",
       "    <tr>\n",
       "      <th>16</th>\n",
       "      <td>148</td>\n",
       "      <td>2392</td>\n",
       "      <td>NaN</td>\n",
       "    </tr>\n",
       "    <tr>\n",
       "      <th>17</th>\n",
       "      <td>148</td>\n",
       "      <td>3028</td>\n",
       "      <td>NaN</td>\n",
       "    </tr>\n",
       "    <tr>\n",
       "      <th>18</th>\n",
       "      <td>148</td>\n",
       "      <td>1888</td>\n",
       "      <td>NaN</td>\n",
       "    </tr>\n",
       "    <tr>\n",
       "      <th>19</th>\n",
       "      <td>148</td>\n",
       "      <td>2874</td>\n",
       "      <td>NaN</td>\n",
       "    </tr>\n",
       "    <tr>\n",
       "      <th>20</th>\n",
       "      <td>148</td>\n",
       "      <td>3062</td>\n",
       "      <td>NaN</td>\n",
       "    </tr>\n",
       "    <tr>\n",
       "      <th>21</th>\n",
       "      <td>148</td>\n",
       "      <td>1016</td>\n",
       "      <td>NaN</td>\n",
       "    </tr>\n",
       "    <tr>\n",
       "      <th>22</th>\n",
       "      <td>148</td>\n",
       "      <td>2396</td>\n",
       "      <td>NaN</td>\n",
       "    </tr>\n",
       "    <tr>\n",
       "      <th>23</th>\n",
       "      <td>148</td>\n",
       "      <td>3703</td>\n",
       "      <td>NaN</td>\n",
       "    </tr>\n",
       "    <tr>\n",
       "      <th>24</th>\n",
       "      <td>148</td>\n",
       "      <td>673</td>\n",
       "      <td>NaN</td>\n",
       "    </tr>\n",
       "    <tr>\n",
       "      <th>25</th>\n",
       "      <td>148</td>\n",
       "      <td>593</td>\n",
       "      <td>NaN</td>\n",
       "    </tr>\n",
       "    <tr>\n",
       "      <th>26</th>\n",
       "      <td>148</td>\n",
       "      <td>597</td>\n",
       "      <td>NaN</td>\n",
       "    </tr>\n",
       "    <tr>\n",
       "      <th>27</th>\n",
       "      <td>148</td>\n",
       "      <td>1653</td>\n",
       "      <td>NaN</td>\n",
       "    </tr>\n",
       "    <tr>\n",
       "      <th>28</th>\n",
       "      <td>148</td>\n",
       "      <td>2797</td>\n",
       "      <td>NaN</td>\n",
       "    </tr>\n",
       "    <tr>\n",
       "      <th>29</th>\n",
       "      <td>148</td>\n",
       "      <td>3441</td>\n",
       "      <td>NaN</td>\n",
       "    </tr>\n",
       "    <tr>\n",
       "      <th>...</th>\n",
       "      <td>...</td>\n",
       "      <td>...</td>\n",
       "      <td>...</td>\n",
       "    </tr>\n",
       "    <tr>\n",
       "      <th>200179</th>\n",
       "      <td>2376</td>\n",
       "      <td>2745</td>\n",
       "      <td>3.554164</td>\n",
       "    </tr>\n",
       "    <tr>\n",
       "      <th>200180</th>\n",
       "      <td>2376</td>\n",
       "      <td>144</td>\n",
       "      <td>3.134544</td>\n",
       "    </tr>\n",
       "    <tr>\n",
       "      <th>200181</th>\n",
       "      <td>2376</td>\n",
       "      <td>3949</td>\n",
       "      <td>4.117712</td>\n",
       "    </tr>\n",
       "    <tr>\n",
       "      <th>200182</th>\n",
       "      <td>2376</td>\n",
       "      <td>1044</td>\n",
       "      <td>2.903812</td>\n",
       "    </tr>\n",
       "    <tr>\n",
       "      <th>200183</th>\n",
       "      <td>2376</td>\n",
       "      <td>1204</td>\n",
       "      <td>4.235978</td>\n",
       "    </tr>\n",
       "    <tr>\n",
       "      <th>200184</th>\n",
       "      <td>2555</td>\n",
       "      <td>2023</td>\n",
       "      <td>2.857690</td>\n",
       "    </tr>\n",
       "    <tr>\n",
       "      <th>200185</th>\n",
       "      <td>2555</td>\n",
       "      <td>1955</td>\n",
       "      <td>3.366092</td>\n",
       "    </tr>\n",
       "    <tr>\n",
       "      <th>200186</th>\n",
       "      <td>2555</td>\n",
       "      <td>2628</td>\n",
       "      <td>2.697260</td>\n",
       "    </tr>\n",
       "    <tr>\n",
       "      <th>200187</th>\n",
       "      <td>2555</td>\n",
       "      <td>3551</td>\n",
       "      <td>3.553517</td>\n",
       "    </tr>\n",
       "    <tr>\n",
       "      <th>200188</th>\n",
       "      <td>3053</td>\n",
       "      <td>2455</td>\n",
       "      <td>2.920680</td>\n",
       "    </tr>\n",
       "    <tr>\n",
       "      <th>200189</th>\n",
       "      <td>3053</td>\n",
       "      <td>3476</td>\n",
       "      <td>3.180608</td>\n",
       "    </tr>\n",
       "    <tr>\n",
       "      <th>200190</th>\n",
       "      <td>3053</td>\n",
       "      <td>2716</td>\n",
       "      <td>2.851005</td>\n",
       "    </tr>\n",
       "    <tr>\n",
       "      <th>200191</th>\n",
       "      <td>3053</td>\n",
       "      <td>1345</td>\n",
       "      <td>3.229150</td>\n",
       "    </tr>\n",
       "    <tr>\n",
       "      <th>200192</th>\n",
       "      <td>3053</td>\n",
       "      <td>2160</td>\n",
       "      <td>3.671537</td>\n",
       "    </tr>\n",
       "    <tr>\n",
       "      <th>200193</th>\n",
       "      <td>3053</td>\n",
       "      <td>2747</td>\n",
       "      <td>2.763792</td>\n",
       "    </tr>\n",
       "    <tr>\n",
       "      <th>200194</th>\n",
       "      <td>4585</td>\n",
       "      <td>3175</td>\n",
       "      <td>3.938285</td>\n",
       "    </tr>\n",
       "    <tr>\n",
       "      <th>200195</th>\n",
       "      <td>4585</td>\n",
       "      <td>3857</td>\n",
       "      <td>2.887850</td>\n",
       "    </tr>\n",
       "    <tr>\n",
       "      <th>200196</th>\n",
       "      <td>4585</td>\n",
       "      <td>3793</td>\n",
       "      <td>4.186739</td>\n",
       "    </tr>\n",
       "    <tr>\n",
       "      <th>200197</th>\n",
       "      <td>4585</td>\n",
       "      <td>1073</td>\n",
       "      <td>3.943558</td>\n",
       "    </tr>\n",
       "    <tr>\n",
       "      <th>200198</th>\n",
       "      <td>4585</td>\n",
       "      <td>903</td>\n",
       "      <td>4.096502</td>\n",
       "    </tr>\n",
       "    <tr>\n",
       "      <th>200199</th>\n",
       "      <td>4585</td>\n",
       "      <td>3424</td>\n",
       "      <td>3.598124</td>\n",
       "    </tr>\n",
       "    <tr>\n",
       "      <th>200200</th>\n",
       "      <td>4585</td>\n",
       "      <td>3146</td>\n",
       "      <td>3.544498</td>\n",
       "    </tr>\n",
       "    <tr>\n",
       "      <th>200201</th>\n",
       "      <td>4585</td>\n",
       "      <td>3578</td>\n",
       "      <td>4.323484</td>\n",
       "    </tr>\n",
       "    <tr>\n",
       "      <th>200202</th>\n",
       "      <td>4585</td>\n",
       "      <td>2706</td>\n",
       "      <td>4.060253</td>\n",
       "    </tr>\n",
       "    <tr>\n",
       "      <th>200203</th>\n",
       "      <td>5125</td>\n",
       "      <td>955</td>\n",
       "      <td>4.164864</td>\n",
       "    </tr>\n",
       "    <tr>\n",
       "      <th>200204</th>\n",
       "      <td>5125</td>\n",
       "      <td>3739</td>\n",
       "      <td>4.106901</td>\n",
       "    </tr>\n",
       "    <tr>\n",
       "      <th>200205</th>\n",
       "      <td>5125</td>\n",
       "      <td>1256</td>\n",
       "      <td>4.340465</td>\n",
       "    </tr>\n",
       "    <tr>\n",
       "      <th>200206</th>\n",
       "      <td>5125</td>\n",
       "      <td>3307</td>\n",
       "      <td>4.376803</td>\n",
       "    </tr>\n",
       "    <tr>\n",
       "      <th>200207</th>\n",
       "      <td>5125</td>\n",
       "      <td>905</td>\n",
       "      <td>4.282625</td>\n",
       "    </tr>\n",
       "    <tr>\n",
       "      <th>200208</th>\n",
       "      <td>5125</td>\n",
       "      <td>947</td>\n",
       "      <td>4.163929</td>\n",
       "    </tr>\n",
       "  </tbody>\n",
       "</table>\n",
       "<p>200209 rows × 3 columns</p>\n",
       "</div>"
      ],
      "text/plain": [
       "        user  movie    rating\n",
       "0        148   1088       NaN\n",
       "1        148   1580       NaN\n",
       "2        148   2122       NaN\n",
       "3        148   2142       NaN\n",
       "4        148   2366       NaN\n",
       "5        148   3175       NaN\n",
       "6        148    858       NaN\n",
       "7        148   1127       NaN\n",
       "8        148   1721       NaN\n",
       "9        148   3698       NaN\n",
       "10       148   1270       NaN\n",
       "11       148   2393       NaN\n",
       "12       148   3704       NaN\n",
       "13       148    808       NaN\n",
       "14       148   2748       NaN\n",
       "15       148   2096       NaN\n",
       "16       148   2392       NaN\n",
       "17       148   3028       NaN\n",
       "18       148   1888       NaN\n",
       "19       148   2874       NaN\n",
       "20       148   3062       NaN\n",
       "21       148   1016       NaN\n",
       "22       148   2396       NaN\n",
       "23       148   3703       NaN\n",
       "24       148    673       NaN\n",
       "25       148    593       NaN\n",
       "26       148    597       NaN\n",
       "27       148   1653       NaN\n",
       "28       148   2797       NaN\n",
       "29       148   3441       NaN\n",
       "...      ...    ...       ...\n",
       "200179  2376   2745  3.554164\n",
       "200180  2376    144  3.134544\n",
       "200181  2376   3949  4.117712\n",
       "200182  2376   1044  2.903812\n",
       "200183  2376   1204  4.235978\n",
       "200184  2555   2023  2.857690\n",
       "200185  2555   1955  3.366092\n",
       "200186  2555   2628  2.697260\n",
       "200187  2555   3551  3.553517\n",
       "200188  3053   2455  2.920680\n",
       "200189  3053   3476  3.180608\n",
       "200190  3053   2716  2.851005\n",
       "200191  3053   1345  3.229150\n",
       "200192  3053   2160  3.671537\n",
       "200193  3053   2747  2.763792\n",
       "200194  4585   3175  3.938285\n",
       "200195  4585   3857  2.887850\n",
       "200196  4585   3793  4.186739\n",
       "200197  4585   1073  3.943558\n",
       "200198  4585    903  4.096502\n",
       "200199  4585   3424  3.598124\n",
       "200200  4585   3146  3.544498\n",
       "200201  4585   3578  4.323484\n",
       "200202  4585   2706  4.060253\n",
       "200203  5125    955  4.164864\n",
       "200204  5125   3739  4.106901\n",
       "200205  5125   1256  4.340465\n",
       "200206  5125   3307  4.376803\n",
       "200207  5125    905  4.282625\n",
       "200208  5125    947  4.163929\n",
       "\n",
       "[200209 rows x 3 columns]"
      ]
     },
     "execution_count": 71,
     "metadata": {},
     "output_type": "execute_result"
    }
   ],
   "source": [
    "preds_df"
   ]
  },
  {
   "cell_type": "code",
   "execution_count": 72,
   "metadata": {
    "collapsed": false
   },
   "outputs": [],
   "source": [
    "pd.DataFrame.to_csv(preds_df, 'submit.csv', na_rep='NaN', index=False)"
   ]
  },
  {
   "cell_type": "code",
   "execution_count": null,
   "metadata": {
    "collapsed": true
   },
   "outputs": [],
   "source": []
  }
 ],
 "metadata": {
  "anaconda-cloud": {},
  "kernelspec": {
   "display_name": "Python [conda root]",
   "language": "python",
   "name": "conda-root-py"
  },
  "language_info": {
   "codemirror_mode": {
    "name": "ipython",
    "version": 2
   },
   "file_extension": ".py",
   "mimetype": "text/x-python",
   "name": "python",
   "nbconvert_exporter": "python",
   "pygments_lexer": "ipython2",
   "version": "2.7.12"
  }
 },
 "nbformat": 4,
 "nbformat_minor": 1
}
