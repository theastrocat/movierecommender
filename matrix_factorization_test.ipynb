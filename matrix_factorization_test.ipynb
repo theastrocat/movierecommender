{
 "cells": [
  {
   "cell_type": "code",
   "execution_count": 1,
   "metadata": {
    "collapsed": true
   },
   "outputs": [],
   "source": [
    "import pyspark as ps\n",
    "from pyspark.sql import SparkSession\n",
    "from pyspark.ml.recommendation import ALS\n",
    "import pandas as pd\n",
    "import numpy as np"
   ]
  },
  {
   "cell_type": "code",
   "execution_count": 6,
   "metadata": {
    "collapsed": false
   },
   "outputs": [],
   "source": [
    "spark = SparkSession.builder.master('local[4]').getOrCreate()"
   ]
  },
  {
   "cell_type": "code",
   "execution_count": 7,
   "metadata": {
    "collapsed": false
   },
   "outputs": [],
   "source": [
    "ratings_df = pd.read_csv('data/training.csv')\n",
    "train_df = ratings_df.sort_values('timestamp', ascending=True)[:-100000]\n",
    "test_df = ratings_df.sort_values('timestamp', ascending=True)[-100000:]"
   ]
  },
  {
   "cell_type": "code",
   "execution_count": null,
   "metadata": {
    "collapsed": false
   },
   "outputs": [],
   "source": []
  },
  {
   "cell_type": "code",
   "execution_count": 8,
   "metadata": {
    "collapsed": false
   },
   "outputs": [],
   "source": [
    "train_spark_df = spark.createDataFrame(train_df)\n",
    "test_spark_df = spark.createDataFrame(test_df)"
   ]
  },
  {
   "cell_type": "code",
   "execution_count": 9,
   "metadata": {
    "collapsed": true
   },
   "outputs": [],
   "source": [
    "train_spark_df = train_spark_df.drop('timestamp')\n",
    "test_spark_df = test_spark_df.drop('timestamp')"
   ]
  },
  {
   "cell_type": "code",
   "execution_count": 117,
   "metadata": {
    "collapsed": true
   },
   "outputs": [],
   "source": [
    "ALS?"
   ]
  },
  {
   "cell_type": "code",
   "execution_count": 10,
   "metadata": {
    "collapsed": false
   },
   "outputs": [],
   "source": [
    "als_model = ALS(\n",
    "    itemCol='user',\n",
    "    userCol='movie',\n",
    "    ratingCol='rating',\n",
    "    nonnegative=True,    \n",
    "    regParam=0.1,\n",
    "    rank=100,\n",
    "    maxIter=10\n",
    "    )"
   ]
  },
  {
   "cell_type": "code",
   "execution_count": 10,
   "metadata": {
    "collapsed": true
   },
   "outputs": [],
   "source": [
    "from src.recommender import MovieRecommender as MR"
   ]
  },
  {
   "cell_type": "code",
   "execution_count": 11,
   "metadata": {
    "collapsed": false
   },
   "outputs": [],
   "source": [
    "ratings_fit = als_model.fit(train_spark_df)"
   ]
  },
  {
   "cell_type": "code",
   "execution_count": 14,
   "metadata": {
    "collapsed": true
   },
   "outputs": [],
   "source": [
    "from pyspark.sql.types import *"
   ]
  },
  {
   "cell_type": "code",
   "execution_count": 15,
   "metadata": {
    "collapsed": false
   },
   "outputs": [],
   "source": [
    "schema = StructType( [\n",
    "        StructField('user', IntegerType(), True),\n",
    "        StructField('movie', IntegerType(), True)])"
   ]
  },
  {
   "cell_type": "code",
   "execution_count": 16,
   "metadata": {
    "collapsed": false
   },
   "outputs": [],
   "source": [
    "requests = spark.read.csv('data/requests.csv', header=True, schema = schema, inferSchema=False)"
   ]
  },
  {
   "cell_type": "code",
   "execution_count": 17,
   "metadata": {
    "collapsed": true
   },
   "outputs": [],
   "source": [
    "def casting_function(row):\n",
    "    id, movie = row\n",
    "    return int(id), int(movie)"
   ]
  },
  {
   "cell_type": "code",
   "execution_count": 18,
   "metadata": {
    "collapsed": false
   },
   "outputs": [
    {
     "data": {
      "text/plain": [
       "pyspark.sql.dataframe.DataFrame"
      ]
     },
     "execution_count": 18,
     "metadata": {},
     "output_type": "execute_result"
    }
   ],
   "source": [
    "type(requests)"
   ]
  },
  {
   "cell_type": "code",
   "execution_count": null,
   "metadata": {
    "collapsed": true
   },
   "outputs": [],
   "source": []
  },
  {
   "cell_type": "code",
   "execution_count": 19,
   "metadata": {
    "collapsed": false
   },
   "outputs": [],
   "source": [
    "requests = requests.rdd.map(casting_function)"
   ]
  },
  {
   "cell_type": "code",
   "execution_count": 20,
   "metadata": {
    "collapsed": false
   },
   "outputs": [],
   "source": [
    "requests = spark.createDataFrame(requests, schema)"
   ]
  },
  {
   "cell_type": "code",
   "execution_count": 21,
   "metadata": {
    "collapsed": false,
    "scrolled": false
   },
   "outputs": [
    {
     "name": "stdout",
     "output_type": "stream",
     "text": [
      "root\n",
      " |-- user: integer (nullable = true)\n",
      " |-- movie: integer (nullable = true)\n",
      "\n"
     ]
    }
   ],
   "source": [
    "requests.printSchema()"
   ]
  },
  {
   "cell_type": "code",
   "execution_count": 50,
   "metadata": {
    "collapsed": false
   },
   "outputs": [
    {
     "name": "stdout",
     "output_type": "stream",
     "text": [
      "+----+-----+\n",
      "|user|movie|\n",
      "+----+-----+\n",
      "|4958| 1924|\n",
      "|4958| 3264|\n",
      "|4958| 2634|\n",
      "|4958| 1407|\n",
      "|4958| 2399|\n",
      "|4958| 3489|\n",
      "|4958| 2043|\n",
      "|4958| 2453|\n",
      "|5312| 3267|\n",
      "|5948| 3098|\n",
      "|5948| 1180|\n",
      "|3158| 2648|\n",
      "| 403| 1036|\n",
      "|3693|  468|\n",
      "|5950| 1262|\n",
      "|5950| 3555|\n",
      "|5950| 3793|\n",
      "|5950| 3578|\n",
      "|5950| 3948|\n",
      "|5950| 3893|\n",
      "+----+-----+\n",
      "only showing top 20 rows\n",
      "\n"
     ]
    }
   ],
   "source": [
    "requests.show()"
   ]
  },
  {
   "cell_type": "code",
   "execution_count": 39,
   "metadata": {
    "collapsed": false
   },
   "outputs": [],
   "source": [
    "preds = ratings_fit.transform(test_spark_df)"
   ]
  },
  {
   "cell_type": "code",
   "execution_count": 49,
   "metadata": {
    "collapsed": false
   },
   "outputs": [
    {
     "name": "stdout",
     "output_type": "stream",
     "text": [
      "+----+-----+------+----------+\n",
      "|user|movie|rating|prediction|\n",
      "+----+-----+------+----------+\n",
      "| 833|  593|     5|       NaN|\n",
      "| 833| 2840|     3|       NaN|\n",
      "| 833| 3798|     4|       NaN|\n",
      "| 833| 1517|     2|       NaN|\n",
      "| 833| 3827|     4|       NaN|\n",
      "| 833|  266|     5|       NaN|\n",
      "| 833| 1035|     5|       NaN|\n",
      "| 833|  316|     4|       NaN|\n",
      "| 833|  318|     5|       NaN|\n",
      "| 833| 1271|     4|       NaN|\n",
      "| 833| 2688|     5|       NaN|\n",
      "| 833| 3101|     3|       NaN|\n",
      "| 833|  527|     4|       NaN|\n",
      "| 833| 1704|     4|       NaN|\n",
      "| 833| 2858|     5|       NaN|\n",
      "| 833|  457|     3|       NaN|\n",
      "| 833| 2028|     5|       NaN|\n",
      "| 833|  344|     2|       NaN|\n",
      "| 833| 2762|     4|       NaN|\n",
      "| 833| 1193|     5|       NaN|\n",
      "+----+-----+------+----------+\n",
      "only showing top 20 rows\n",
      "\n"
     ]
    }
   ],
   "source": [
    "preds.show()"
   ]
  },
  {
   "cell_type": "code",
   "execution_count": 61,
   "metadata": {
    "collapsed": false
   },
   "outputs": [],
   "source": [
    "preds_rating = preds.select('rating', 'prediction')"
   ]
  },
  {
   "cell_type": "code",
   "execution_count": null,
   "metadata": {
    "collapsed": false
   },
   "outputs": [],
   "source": []
  },
  {
   "cell_type": "code",
   "execution_count": 58,
   "metadata": {
    "collapsed": false
   },
   "outputs": [],
   "source": [
    "from pyspark.ml.param import Params"
   ]
  },
  {
   "cell_type": "code",
   "execution_count": 60,
   "metadata": {
    "collapsed": true
   },
   "outputs": [],
   "source": [
    "paramap = Params()"
   ]
  },
  {
   "cell_type": "code",
   "execution_count": 25,
   "metadata": {
    "collapsed": true
   },
   "outputs": [],
   "source": [
    "from pyspark.ml.evaluation import RegressionEvaluator"
   ]
  },
  {
   "cell_type": "code",
   "execution_count": 65,
   "metadata": {
    "collapsed": true
   },
   "outputs": [],
   "source": [
    "evaluator = RegressionEvaluator(labelCol='rating', predictionCol='prediction')"
   ]
  },
  {
   "cell_type": "code",
   "execution_count": 66,
   "metadata": {
    "collapsed": false
   },
   "outputs": [
    {
     "data": {
      "text/plain": [
       "nan"
      ]
     },
     "execution_count": 66,
     "metadata": {},
     "output_type": "execute_result"
    }
   ],
   "source": [
    "evaluator.evaluate(preds_rating)"
   ]
  },
  {
   "cell_type": "code",
   "execution_count": 105,
   "metadata": {
    "collapsed": false
   },
   "outputs": [],
   "source": [
    "preds_df = pd.DataFrame(preds, columns=['user', 'movie', 'rating'])"
   ]
  },
  {
   "cell_type": "code",
   "execution_count": 106,
   "metadata": {
    "collapsed": false
   },
   "outputs": [
    {
     "name": "stdout",
     "output_type": "stream",
     "text": [
      "<class 'pandas.core.frame.DataFrame'>\n",
      "RangeIndex: 200209 entries, 0 to 200208\n",
      "Data columns (total 3 columns):\n",
      "user      200209 non-null int64\n",
      "movie     200209 non-null int64\n",
      "rating    104439 non-null float64\n",
      "dtypes: float64(1), int64(2)\n",
      "memory usage: 4.6 MB\n"
     ]
    }
   ],
   "source": [
    "preds_df.info()"
   ]
  },
  {
   "cell_type": "code",
   "execution_count": null,
   "metadata": {
    "collapsed": false
   },
   "outputs": [],
   "source": []
  },
  {
   "cell_type": "code",
   "execution_count": 72,
   "metadata": {
    "collapsed": false
   },
   "outputs": [],
   "source": [
    "pd.DataFrame.to_csv(preds_df, 'submit.csv', na_rep='NaN', index=False)"
   ]
  },
  {
   "cell_type": "code",
   "execution_count": null,
   "metadata": {
    "collapsed": false
   },
   "outputs": [],
   "source": []
  },
  {
   "cell_type": "code",
   "execution_count": 70,
   "metadata": {
    "collapsed": false
   },
   "outputs": [],
   "source": [
    "ratings_pandas_df = train_spark_df.toPandas()"
   ]
  },
  {
   "cell_type": "code",
   "execution_count": 71,
   "metadata": {
    "collapsed": false
   },
   "outputs": [],
   "source": [
    "avg_movie_ratings_pandas_df = ratings_pandas_df.groupby('movie').mean()"
   ]
  },
  {
   "cell_type": "code",
   "execution_count": 72,
   "metadata": {
    "collapsed": false
   },
   "outputs": [],
   "source": [
    "avg_movie_ratings_pandas_df.drop('user', axis=1, inplace=True)"
   ]
  },
  {
   "cell_type": "code",
   "execution_count": 107,
   "metadata": {
    "collapsed": false
   },
   "outputs": [],
   "source": [
    "preds_df_nonan = preds_df.join(avg_movie_ratings_pandas_df, on='movie', how='left', rsuffix='movie')"
   ]
  },
  {
   "cell_type": "code",
   "execution_count": 85,
   "metadata": {
    "collapsed": false
   },
   "outputs": [
    {
     "data": {
      "text/plain": [
       "Index([u'rating'], dtype='object')"
      ]
     },
     "execution_count": 85,
     "metadata": {},
     "output_type": "execute_result"
    }
   ],
   "source": [
    "avg_movie_ratings_pandas_df.columns"
   ]
  },
  {
   "cell_type": "code",
   "execution_count": 82,
   "metadata": {
    "collapsed": false
   },
   "outputs": [
    {
     "data": {
      "text/html": [
       "<div>\n",
       "<table border=\"1\" class=\"dataframe\">\n",
       "  <thead>\n",
       "    <tr style=\"text-align: right;\">\n",
       "      <th></th>\n",
       "      <th>user</th>\n",
       "      <th>movie</th>\n",
       "      <th>rating</th>\n",
       "    </tr>\n",
       "  </thead>\n",
       "  <tbody>\n",
       "    <tr>\n",
       "      <th>0</th>\n",
       "      <td>6040</td>\n",
       "      <td>858</td>\n",
       "      <td>4</td>\n",
       "    </tr>\n",
       "    <tr>\n",
       "      <th>1</th>\n",
       "      <td>6040</td>\n",
       "      <td>593</td>\n",
       "      <td>5</td>\n",
       "    </tr>\n",
       "    <tr>\n",
       "      <th>2</th>\n",
       "      <td>6040</td>\n",
       "      <td>2384</td>\n",
       "      <td>4</td>\n",
       "    </tr>\n",
       "    <tr>\n",
       "      <th>3</th>\n",
       "      <td>6040</td>\n",
       "      <td>1961</td>\n",
       "      <td>4</td>\n",
       "    </tr>\n",
       "    <tr>\n",
       "      <th>4</th>\n",
       "      <td>6040</td>\n",
       "      <td>2019</td>\n",
       "      <td>5</td>\n",
       "    </tr>\n",
       "    <tr>\n",
       "      <th>5</th>\n",
       "      <td>6040</td>\n",
       "      <td>1419</td>\n",
       "      <td>3</td>\n",
       "    </tr>\n",
       "    <tr>\n",
       "      <th>6</th>\n",
       "      <td>6040</td>\n",
       "      <td>573</td>\n",
       "      <td>4</td>\n",
       "    </tr>\n",
       "    <tr>\n",
       "      <th>7</th>\n",
       "      <td>6040</td>\n",
       "      <td>3111</td>\n",
       "      <td>5</td>\n",
       "    </tr>\n",
       "    <tr>\n",
       "      <th>8</th>\n",
       "      <td>6040</td>\n",
       "      <td>213</td>\n",
       "      <td>5</td>\n",
       "    </tr>\n",
       "    <tr>\n",
       "      <th>9</th>\n",
       "      <td>6040</td>\n",
       "      <td>3505</td>\n",
       "      <td>4</td>\n",
       "    </tr>\n",
       "    <tr>\n",
       "      <th>10</th>\n",
       "      <td>6040</td>\n",
       "      <td>1734</td>\n",
       "      <td>2</td>\n",
       "    </tr>\n",
       "    <tr>\n",
       "      <th>11</th>\n",
       "      <td>6040</td>\n",
       "      <td>912</td>\n",
       "      <td>5</td>\n",
       "    </tr>\n",
       "    <tr>\n",
       "      <th>12</th>\n",
       "      <td>6040</td>\n",
       "      <td>919</td>\n",
       "      <td>5</td>\n",
       "    </tr>\n",
       "    <tr>\n",
       "      <th>13</th>\n",
       "      <td>6040</td>\n",
       "      <td>2503</td>\n",
       "      <td>5</td>\n",
       "    </tr>\n",
       "    <tr>\n",
       "      <th>14</th>\n",
       "      <td>6040</td>\n",
       "      <td>527</td>\n",
       "      <td>5</td>\n",
       "    </tr>\n",
       "    <tr>\n",
       "      <th>15</th>\n",
       "      <td>6040</td>\n",
       "      <td>318</td>\n",
       "      <td>4</td>\n",
       "    </tr>\n",
       "    <tr>\n",
       "      <th>16</th>\n",
       "      <td>6040</td>\n",
       "      <td>1252</td>\n",
       "      <td>5</td>\n",
       "    </tr>\n",
       "    <tr>\n",
       "      <th>17</th>\n",
       "      <td>6040</td>\n",
       "      <td>649</td>\n",
       "      <td>5</td>\n",
       "    </tr>\n",
       "    <tr>\n",
       "      <th>18</th>\n",
       "      <td>6040</td>\n",
       "      <td>3289</td>\n",
       "      <td>5</td>\n",
       "    </tr>\n",
       "    <tr>\n",
       "      <th>19</th>\n",
       "      <td>6040</td>\n",
       "      <td>759</td>\n",
       "      <td>5</td>\n",
       "    </tr>\n",
       "    <tr>\n",
       "      <th>20</th>\n",
       "      <td>6040</td>\n",
       "      <td>2858</td>\n",
       "      <td>4</td>\n",
       "    </tr>\n",
       "    <tr>\n",
       "      <th>21</th>\n",
       "      <td>6040</td>\n",
       "      <td>608</td>\n",
       "      <td>4</td>\n",
       "    </tr>\n",
       "    <tr>\n",
       "      <th>22</th>\n",
       "      <td>6040</td>\n",
       "      <td>2396</td>\n",
       "      <td>3</td>\n",
       "    </tr>\n",
       "    <tr>\n",
       "      <th>23</th>\n",
       "      <td>6040</td>\n",
       "      <td>2028</td>\n",
       "      <td>5</td>\n",
       "    </tr>\n",
       "    <tr>\n",
       "      <th>24</th>\n",
       "      <td>6040</td>\n",
       "      <td>326</td>\n",
       "      <td>4</td>\n",
       "    </tr>\n",
       "    <tr>\n",
       "      <th>25</th>\n",
       "      <td>6040</td>\n",
       "      <td>1649</td>\n",
       "      <td>5</td>\n",
       "    </tr>\n",
       "    <tr>\n",
       "      <th>26</th>\n",
       "      <td>6040</td>\n",
       "      <td>17</td>\n",
       "      <td>3</td>\n",
       "    </tr>\n",
       "    <tr>\n",
       "      <th>27</th>\n",
       "      <td>6040</td>\n",
       "      <td>34</td>\n",
       "      <td>4</td>\n",
       "    </tr>\n",
       "    <tr>\n",
       "      <th>28</th>\n",
       "      <td>6040</td>\n",
       "      <td>2762</td>\n",
       "      <td>4</td>\n",
       "    </tr>\n",
       "    <tr>\n",
       "      <th>29</th>\n",
       "      <td>6040</td>\n",
       "      <td>246</td>\n",
       "      <td>5</td>\n",
       "    </tr>\n",
       "    <tr>\n",
       "      <th>...</th>\n",
       "      <td>...</td>\n",
       "      <td>...</td>\n",
       "      <td>...</td>\n",
       "    </tr>\n",
       "    <tr>\n",
       "      <th>799970</th>\n",
       "      <td>1386</td>\n",
       "      <td>593</td>\n",
       "      <td>5</td>\n",
       "    </tr>\n",
       "    <tr>\n",
       "      <th>799971</th>\n",
       "      <td>1386</td>\n",
       "      <td>2997</td>\n",
       "      <td>5</td>\n",
       "    </tr>\n",
       "    <tr>\n",
       "      <th>799972</th>\n",
       "      <td>1386</td>\n",
       "      <td>3504</td>\n",
       "      <td>4</td>\n",
       "    </tr>\n",
       "    <tr>\n",
       "      <th>799973</th>\n",
       "      <td>1386</td>\n",
       "      <td>1394</td>\n",
       "      <td>5</td>\n",
       "    </tr>\n",
       "    <tr>\n",
       "      <th>799974</th>\n",
       "      <td>1386</td>\n",
       "      <td>1196</td>\n",
       "      <td>3</td>\n",
       "    </tr>\n",
       "    <tr>\n",
       "      <th>799975</th>\n",
       "      <td>1386</td>\n",
       "      <td>1199</td>\n",
       "      <td>4</td>\n",
       "    </tr>\n",
       "    <tr>\n",
       "      <th>799976</th>\n",
       "      <td>1386</td>\n",
       "      <td>1266</td>\n",
       "      <td>4</td>\n",
       "    </tr>\n",
       "    <tr>\n",
       "      <th>799977</th>\n",
       "      <td>1386</td>\n",
       "      <td>1294</td>\n",
       "      <td>4</td>\n",
       "    </tr>\n",
       "    <tr>\n",
       "      <th>799978</th>\n",
       "      <td>1386</td>\n",
       "      <td>260</td>\n",
       "      <td>3</td>\n",
       "    </tr>\n",
       "    <tr>\n",
       "      <th>799979</th>\n",
       "      <td>1386</td>\n",
       "      <td>1136</td>\n",
       "      <td>5</td>\n",
       "    </tr>\n",
       "    <tr>\n",
       "      <th>799980</th>\n",
       "      <td>1386</td>\n",
       "      <td>1080</td>\n",
       "      <td>5</td>\n",
       "    </tr>\n",
       "    <tr>\n",
       "      <th>799981</th>\n",
       "      <td>1386</td>\n",
       "      <td>36</td>\n",
       "      <td>4</td>\n",
       "    </tr>\n",
       "    <tr>\n",
       "      <th>799982</th>\n",
       "      <td>1386</td>\n",
       "      <td>1278</td>\n",
       "      <td>5</td>\n",
       "    </tr>\n",
       "    <tr>\n",
       "      <th>799983</th>\n",
       "      <td>1386</td>\n",
       "      <td>3168</td>\n",
       "      <td>4</td>\n",
       "    </tr>\n",
       "    <tr>\n",
       "      <th>799984</th>\n",
       "      <td>1386</td>\n",
       "      <td>2291</td>\n",
       "      <td>4</td>\n",
       "    </tr>\n",
       "    <tr>\n",
       "      <th>799985</th>\n",
       "      <td>1386</td>\n",
       "      <td>1259</td>\n",
       "      <td>4</td>\n",
       "    </tr>\n",
       "    <tr>\n",
       "      <th>799986</th>\n",
       "      <td>1386</td>\n",
       "      <td>1673</td>\n",
       "      <td>4</td>\n",
       "    </tr>\n",
       "    <tr>\n",
       "      <th>799987</th>\n",
       "      <td>1386</td>\n",
       "      <td>3396</td>\n",
       "      <td>5</td>\n",
       "    </tr>\n",
       "    <tr>\n",
       "      <th>799988</th>\n",
       "      <td>1386</td>\n",
       "      <td>3296</td>\n",
       "      <td>4</td>\n",
       "    </tr>\n",
       "    <tr>\n",
       "      <th>799989</th>\n",
       "      <td>1386</td>\n",
       "      <td>3469</td>\n",
       "      <td>4</td>\n",
       "    </tr>\n",
       "    <tr>\n",
       "      <th>799990</th>\n",
       "      <td>1875</td>\n",
       "      <td>908</td>\n",
       "      <td>5</td>\n",
       "    </tr>\n",
       "    <tr>\n",
       "      <th>799991</th>\n",
       "      <td>1875</td>\n",
       "      <td>951</td>\n",
       "      <td>5</td>\n",
       "    </tr>\n",
       "    <tr>\n",
       "      <th>799992</th>\n",
       "      <td>1875</td>\n",
       "      <td>1282</td>\n",
       "      <td>5</td>\n",
       "    </tr>\n",
       "    <tr>\n",
       "      <th>799993</th>\n",
       "      <td>1875</td>\n",
       "      <td>1284</td>\n",
       "      <td>5</td>\n",
       "    </tr>\n",
       "    <tr>\n",
       "      <th>799994</th>\n",
       "      <td>1875</td>\n",
       "      <td>1259</td>\n",
       "      <td>3</td>\n",
       "    </tr>\n",
       "    <tr>\n",
       "      <th>799995</th>\n",
       "      <td>1875</td>\n",
       "      <td>2940</td>\n",
       "      <td>5</td>\n",
       "    </tr>\n",
       "    <tr>\n",
       "      <th>799996</th>\n",
       "      <td>1875</td>\n",
       "      <td>589</td>\n",
       "      <td>4</td>\n",
       "    </tr>\n",
       "    <tr>\n",
       "      <th>799997</th>\n",
       "      <td>1875</td>\n",
       "      <td>110</td>\n",
       "      <td>4</td>\n",
       "    </tr>\n",
       "    <tr>\n",
       "      <th>799998</th>\n",
       "      <td>1875</td>\n",
       "      <td>2791</td>\n",
       "      <td>3</td>\n",
       "    </tr>\n",
       "    <tr>\n",
       "      <th>799999</th>\n",
       "      <td>1875</td>\n",
       "      <td>2948</td>\n",
       "      <td>5</td>\n",
       "    </tr>\n",
       "  </tbody>\n",
       "</table>\n",
       "<p>800000 rows × 3 columns</p>\n",
       "</div>"
      ],
      "text/plain": [
       "        user  movie  rating\n",
       "0       6040    858       4\n",
       "1       6040    593       5\n",
       "2       6040   2384       4\n",
       "3       6040   1961       4\n",
       "4       6040   2019       5\n",
       "5       6040   1419       3\n",
       "6       6040    573       4\n",
       "7       6040   3111       5\n",
       "8       6040    213       5\n",
       "9       6040   3505       4\n",
       "10      6040   1734       2\n",
       "11      6040    912       5\n",
       "12      6040    919       5\n",
       "13      6040   2503       5\n",
       "14      6040    527       5\n",
       "15      6040    318       4\n",
       "16      6040   1252       5\n",
       "17      6040    649       5\n",
       "18      6040   3289       5\n",
       "19      6040    759       5\n",
       "20      6040   2858       4\n",
       "21      6040    608       4\n",
       "22      6040   2396       3\n",
       "23      6040   2028       5\n",
       "24      6040    326       4\n",
       "25      6040   1649       5\n",
       "26      6040     17       3\n",
       "27      6040     34       4\n",
       "28      6040   2762       4\n",
       "29      6040    246       5\n",
       "...      ...    ...     ...\n",
       "799970  1386    593       5\n",
       "799971  1386   2997       5\n",
       "799972  1386   3504       4\n",
       "799973  1386   1394       5\n",
       "799974  1386   1196       3\n",
       "799975  1386   1199       4\n",
       "799976  1386   1266       4\n",
       "799977  1386   1294       4\n",
       "799978  1386    260       3\n",
       "799979  1386   1136       5\n",
       "799980  1386   1080       5\n",
       "799981  1386     36       4\n",
       "799982  1386   1278       5\n",
       "799983  1386   3168       4\n",
       "799984  1386   2291       4\n",
       "799985  1386   1259       4\n",
       "799986  1386   1673       4\n",
       "799987  1386   3396       5\n",
       "799988  1386   3296       4\n",
       "799989  1386   3469       4\n",
       "799990  1875    908       5\n",
       "799991  1875    951       5\n",
       "799992  1875   1282       5\n",
       "799993  1875   1284       5\n",
       "799994  1875   1259       3\n",
       "799995  1875   2940       5\n",
       "799996  1875    589       4\n",
       "799997  1875    110       4\n",
       "799998  1875   2791       3\n",
       "799999  1875   2948       5\n",
       "\n",
       "[800000 rows x 3 columns]"
      ]
     },
     "execution_count": 82,
     "metadata": {},
     "output_type": "execute_result"
    }
   ],
   "source": [
    "ratings_pandas_df"
   ]
  },
  {
   "cell_type": "code",
   "execution_count": 108,
   "metadata": {
    "collapsed": false
   },
   "outputs": [
    {
     "data": {
      "text/plain": [
       "0         3.334552\n",
       "1         3.730519\n",
       "2         2.519337\n",
       "3         2.803681\n",
       "4         3.691943\n",
       "5         3.766690\n",
       "6         4.517886\n",
       "7         3.690180\n",
       "8         3.585072\n",
       "9         3.187192\n",
       "10        3.983509\n",
       "11        3.340267\n",
       "12        3.179832\n",
       "13        3.500000\n",
       "14        2.068376\n",
       "15        3.709184\n",
       "16        2.262195\n",
       "17        3.733945\n",
       "18        3.000000\n",
       "19        3.510204\n",
       "20        3.986348\n",
       "21        3.228814\n",
       "22        4.119298\n",
       "23        3.683721\n",
       "24        2.634573\n",
       "25        4.359833\n",
       "26        3.671932\n",
       "27        3.685484\n",
       "28        3.862182\n",
       "29        3.296954\n",
       "            ...   \n",
       "200179    3.527469\n",
       "200180    3.171310\n",
       "200181    4.151720\n",
       "200182    2.999188\n",
       "200183    4.193201\n",
       "200184    2.817289\n",
       "200185    3.379818\n",
       "200186    2.726467\n",
       "200187    3.565174\n",
       "200188    2.947255\n",
       "200189    3.195085\n",
       "200190    2.904865\n",
       "200191    3.257633\n",
       "200192    3.743273\n",
       "200193    2.629044\n",
       "200194    3.963777\n",
       "200195    2.980510\n",
       "200196    4.240873\n",
       "200197    3.903620\n",
       "200198    4.120227\n",
       "200199    3.581655\n",
       "200200    3.446718\n",
       "200201    4.406935\n",
       "200202    4.084644\n",
       "200203    4.224862\n",
       "200204    4.062143\n",
       "200205    4.270528\n",
       "200206    4.353179\n",
       "200207    4.252059\n",
       "200208    4.186129\n",
       "Name: rating, dtype: float64"
      ]
     },
     "execution_count": 108,
     "metadata": {},
     "output_type": "execute_result"
    }
   ],
   "source": [
    "preds_df_nonan['rating'].fillna(preds_df_nonan.ratingmovie)"
   ]
  },
  {
   "cell_type": "code",
   "execution_count": 109,
   "metadata": {
    "collapsed": false
   },
   "outputs": [],
   "source": [
    "preds_df_nonan['rating'] = preds_df_nonan['rating'].fillna(preds_df_nonan.ratingmovie)"
   ]
  },
  {
   "cell_type": "code",
   "execution_count": 110,
   "metadata": {
    "collapsed": false
   },
   "outputs": [],
   "source": [
    "preds_df2 = preds_df_nonan.drop('ratingmovie', axis=1)"
   ]
  },
  {
   "cell_type": "code",
   "execution_count": 111,
   "metadata": {
    "collapsed": false
   },
   "outputs": [
    {
     "data": {
      "text/html": [
       "<div>\n",
       "<table border=\"1\" class=\"dataframe\">\n",
       "  <thead>\n",
       "    <tr style=\"text-align: right;\">\n",
       "      <th></th>\n",
       "      <th>user</th>\n",
       "      <th>movie</th>\n",
       "      <th>rating</th>\n",
       "    </tr>\n",
       "  </thead>\n",
       "  <tbody>\n",
       "    <tr>\n",
       "      <th>0</th>\n",
       "      <td>148</td>\n",
       "      <td>1088</td>\n",
       "      <td>3.334552</td>\n",
       "    </tr>\n",
       "    <tr>\n",
       "      <th>1</th>\n",
       "      <td>148</td>\n",
       "      <td>1580</td>\n",
       "      <td>3.730519</td>\n",
       "    </tr>\n",
       "    <tr>\n",
       "      <th>2</th>\n",
       "      <td>148</td>\n",
       "      <td>2122</td>\n",
       "      <td>2.519337</td>\n",
       "    </tr>\n",
       "    <tr>\n",
       "      <th>3</th>\n",
       "      <td>148</td>\n",
       "      <td>2142</td>\n",
       "      <td>2.803681</td>\n",
       "    </tr>\n",
       "    <tr>\n",
       "      <th>4</th>\n",
       "      <td>148</td>\n",
       "      <td>2366</td>\n",
       "      <td>3.691943</td>\n",
       "    </tr>\n",
       "    <tr>\n",
       "      <th>5</th>\n",
       "      <td>148</td>\n",
       "      <td>3175</td>\n",
       "      <td>3.766690</td>\n",
       "    </tr>\n",
       "    <tr>\n",
       "      <th>6</th>\n",
       "      <td>148</td>\n",
       "      <td>858</td>\n",
       "      <td>4.517886</td>\n",
       "    </tr>\n",
       "    <tr>\n",
       "      <th>7</th>\n",
       "      <td>148</td>\n",
       "      <td>1127</td>\n",
       "      <td>3.690180</td>\n",
       "    </tr>\n",
       "    <tr>\n",
       "      <th>8</th>\n",
       "      <td>148</td>\n",
       "      <td>1721</td>\n",
       "      <td>3.585072</td>\n",
       "    </tr>\n",
       "    <tr>\n",
       "      <th>9</th>\n",
       "      <td>148</td>\n",
       "      <td>3698</td>\n",
       "      <td>3.187192</td>\n",
       "    </tr>\n",
       "    <tr>\n",
       "      <th>10</th>\n",
       "      <td>148</td>\n",
       "      <td>1270</td>\n",
       "      <td>3.983509</td>\n",
       "    </tr>\n",
       "    <tr>\n",
       "      <th>11</th>\n",
       "      <td>148</td>\n",
       "      <td>2393</td>\n",
       "      <td>3.340267</td>\n",
       "    </tr>\n",
       "    <tr>\n",
       "      <th>12</th>\n",
       "      <td>148</td>\n",
       "      <td>3704</td>\n",
       "      <td>3.179832</td>\n",
       "    </tr>\n",
       "    <tr>\n",
       "      <th>13</th>\n",
       "      <td>148</td>\n",
       "      <td>808</td>\n",
       "      <td>3.500000</td>\n",
       "    </tr>\n",
       "    <tr>\n",
       "      <th>14</th>\n",
       "      <td>148</td>\n",
       "      <td>2748</td>\n",
       "      <td>2.068376</td>\n",
       "    </tr>\n",
       "    <tr>\n",
       "      <th>15</th>\n",
       "      <td>148</td>\n",
       "      <td>2096</td>\n",
       "      <td>3.709184</td>\n",
       "    </tr>\n",
       "    <tr>\n",
       "      <th>16</th>\n",
       "      <td>148</td>\n",
       "      <td>2392</td>\n",
       "      <td>2.262195</td>\n",
       "    </tr>\n",
       "    <tr>\n",
       "      <th>17</th>\n",
       "      <td>148</td>\n",
       "      <td>3028</td>\n",
       "      <td>3.733945</td>\n",
       "    </tr>\n",
       "    <tr>\n",
       "      <th>18</th>\n",
       "      <td>148</td>\n",
       "      <td>1888</td>\n",
       "      <td>3.000000</td>\n",
       "    </tr>\n",
       "    <tr>\n",
       "      <th>19</th>\n",
       "      <td>148</td>\n",
       "      <td>2874</td>\n",
       "      <td>3.510204</td>\n",
       "    </tr>\n",
       "    <tr>\n",
       "      <th>20</th>\n",
       "      <td>148</td>\n",
       "      <td>3062</td>\n",
       "      <td>3.986348</td>\n",
       "    </tr>\n",
       "    <tr>\n",
       "      <th>21</th>\n",
       "      <td>148</td>\n",
       "      <td>1016</td>\n",
       "      <td>3.228814</td>\n",
       "    </tr>\n",
       "    <tr>\n",
       "      <th>22</th>\n",
       "      <td>148</td>\n",
       "      <td>2396</td>\n",
       "      <td>4.119298</td>\n",
       "    </tr>\n",
       "    <tr>\n",
       "      <th>23</th>\n",
       "      <td>148</td>\n",
       "      <td>3703</td>\n",
       "      <td>3.683721</td>\n",
       "    </tr>\n",
       "    <tr>\n",
       "      <th>24</th>\n",
       "      <td>148</td>\n",
       "      <td>673</td>\n",
       "      <td>2.634573</td>\n",
       "    </tr>\n",
       "    <tr>\n",
       "      <th>25</th>\n",
       "      <td>148</td>\n",
       "      <td>593</td>\n",
       "      <td>4.359833</td>\n",
       "    </tr>\n",
       "    <tr>\n",
       "      <th>26</th>\n",
       "      <td>148</td>\n",
       "      <td>597</td>\n",
       "      <td>3.671932</td>\n",
       "    </tr>\n",
       "    <tr>\n",
       "      <th>27</th>\n",
       "      <td>148</td>\n",
       "      <td>1653</td>\n",
       "      <td>3.685484</td>\n",
       "    </tr>\n",
       "    <tr>\n",
       "      <th>28</th>\n",
       "      <td>148</td>\n",
       "      <td>2797</td>\n",
       "      <td>3.862182</td>\n",
       "    </tr>\n",
       "    <tr>\n",
       "      <th>29</th>\n",
       "      <td>148</td>\n",
       "      <td>3441</td>\n",
       "      <td>3.296954</td>\n",
       "    </tr>\n",
       "    <tr>\n",
       "      <th>...</th>\n",
       "      <td>...</td>\n",
       "      <td>...</td>\n",
       "      <td>...</td>\n",
       "    </tr>\n",
       "    <tr>\n",
       "      <th>200179</th>\n",
       "      <td>2376</td>\n",
       "      <td>2745</td>\n",
       "      <td>3.527469</td>\n",
       "    </tr>\n",
       "    <tr>\n",
       "      <th>200180</th>\n",
       "      <td>2376</td>\n",
       "      <td>144</td>\n",
       "      <td>3.171310</td>\n",
       "    </tr>\n",
       "    <tr>\n",
       "      <th>200181</th>\n",
       "      <td>2376</td>\n",
       "      <td>3949</td>\n",
       "      <td>4.151720</td>\n",
       "    </tr>\n",
       "    <tr>\n",
       "      <th>200182</th>\n",
       "      <td>2376</td>\n",
       "      <td>1044</td>\n",
       "      <td>2.999188</td>\n",
       "    </tr>\n",
       "    <tr>\n",
       "      <th>200183</th>\n",
       "      <td>2376</td>\n",
       "      <td>1204</td>\n",
       "      <td>4.193201</td>\n",
       "    </tr>\n",
       "    <tr>\n",
       "      <th>200184</th>\n",
       "      <td>2555</td>\n",
       "      <td>2023</td>\n",
       "      <td>2.817289</td>\n",
       "    </tr>\n",
       "    <tr>\n",
       "      <th>200185</th>\n",
       "      <td>2555</td>\n",
       "      <td>1955</td>\n",
       "      <td>3.379818</td>\n",
       "    </tr>\n",
       "    <tr>\n",
       "      <th>200186</th>\n",
       "      <td>2555</td>\n",
       "      <td>2628</td>\n",
       "      <td>2.726467</td>\n",
       "    </tr>\n",
       "    <tr>\n",
       "      <th>200187</th>\n",
       "      <td>2555</td>\n",
       "      <td>3551</td>\n",
       "      <td>3.565174</td>\n",
       "    </tr>\n",
       "    <tr>\n",
       "      <th>200188</th>\n",
       "      <td>3053</td>\n",
       "      <td>2455</td>\n",
       "      <td>2.947255</td>\n",
       "    </tr>\n",
       "    <tr>\n",
       "      <th>200189</th>\n",
       "      <td>3053</td>\n",
       "      <td>3476</td>\n",
       "      <td>3.195085</td>\n",
       "    </tr>\n",
       "    <tr>\n",
       "      <th>200190</th>\n",
       "      <td>3053</td>\n",
       "      <td>2716</td>\n",
       "      <td>2.904865</td>\n",
       "    </tr>\n",
       "    <tr>\n",
       "      <th>200191</th>\n",
       "      <td>3053</td>\n",
       "      <td>1345</td>\n",
       "      <td>3.257633</td>\n",
       "    </tr>\n",
       "    <tr>\n",
       "      <th>200192</th>\n",
       "      <td>3053</td>\n",
       "      <td>2160</td>\n",
       "      <td>3.743273</td>\n",
       "    </tr>\n",
       "    <tr>\n",
       "      <th>200193</th>\n",
       "      <td>3053</td>\n",
       "      <td>2747</td>\n",
       "      <td>2.629044</td>\n",
       "    </tr>\n",
       "    <tr>\n",
       "      <th>200194</th>\n",
       "      <td>4585</td>\n",
       "      <td>3175</td>\n",
       "      <td>3.963777</td>\n",
       "    </tr>\n",
       "    <tr>\n",
       "      <th>200195</th>\n",
       "      <td>4585</td>\n",
       "      <td>3857</td>\n",
       "      <td>2.980510</td>\n",
       "    </tr>\n",
       "    <tr>\n",
       "      <th>200196</th>\n",
       "      <td>4585</td>\n",
       "      <td>3793</td>\n",
       "      <td>4.240873</td>\n",
       "    </tr>\n",
       "    <tr>\n",
       "      <th>200197</th>\n",
       "      <td>4585</td>\n",
       "      <td>1073</td>\n",
       "      <td>3.903620</td>\n",
       "    </tr>\n",
       "    <tr>\n",
       "      <th>200198</th>\n",
       "      <td>4585</td>\n",
       "      <td>903</td>\n",
       "      <td>4.120227</td>\n",
       "    </tr>\n",
       "    <tr>\n",
       "      <th>200199</th>\n",
       "      <td>4585</td>\n",
       "      <td>3424</td>\n",
       "      <td>3.581655</td>\n",
       "    </tr>\n",
       "    <tr>\n",
       "      <th>200200</th>\n",
       "      <td>4585</td>\n",
       "      <td>3146</td>\n",
       "      <td>3.446718</td>\n",
       "    </tr>\n",
       "    <tr>\n",
       "      <th>200201</th>\n",
       "      <td>4585</td>\n",
       "      <td>3578</td>\n",
       "      <td>4.406935</td>\n",
       "    </tr>\n",
       "    <tr>\n",
       "      <th>200202</th>\n",
       "      <td>4585</td>\n",
       "      <td>2706</td>\n",
       "      <td>4.084644</td>\n",
       "    </tr>\n",
       "    <tr>\n",
       "      <th>200203</th>\n",
       "      <td>5125</td>\n",
       "      <td>955</td>\n",
       "      <td>4.224862</td>\n",
       "    </tr>\n",
       "    <tr>\n",
       "      <th>200204</th>\n",
       "      <td>5125</td>\n",
       "      <td>3739</td>\n",
       "      <td>4.062143</td>\n",
       "    </tr>\n",
       "    <tr>\n",
       "      <th>200205</th>\n",
       "      <td>5125</td>\n",
       "      <td>1256</td>\n",
       "      <td>4.270528</td>\n",
       "    </tr>\n",
       "    <tr>\n",
       "      <th>200206</th>\n",
       "      <td>5125</td>\n",
       "      <td>3307</td>\n",
       "      <td>4.353179</td>\n",
       "    </tr>\n",
       "    <tr>\n",
       "      <th>200207</th>\n",
       "      <td>5125</td>\n",
       "      <td>905</td>\n",
       "      <td>4.252059</td>\n",
       "    </tr>\n",
       "    <tr>\n",
       "      <th>200208</th>\n",
       "      <td>5125</td>\n",
       "      <td>947</td>\n",
       "      <td>4.186129</td>\n",
       "    </tr>\n",
       "  </tbody>\n",
       "</table>\n",
       "<p>200209 rows × 3 columns</p>\n",
       "</div>"
      ],
      "text/plain": [
       "        user  movie    rating\n",
       "0        148   1088  3.334552\n",
       "1        148   1580  3.730519\n",
       "2        148   2122  2.519337\n",
       "3        148   2142  2.803681\n",
       "4        148   2366  3.691943\n",
       "5        148   3175  3.766690\n",
       "6        148    858  4.517886\n",
       "7        148   1127  3.690180\n",
       "8        148   1721  3.585072\n",
       "9        148   3698  3.187192\n",
       "10       148   1270  3.983509\n",
       "11       148   2393  3.340267\n",
       "12       148   3704  3.179832\n",
       "13       148    808  3.500000\n",
       "14       148   2748  2.068376\n",
       "15       148   2096  3.709184\n",
       "16       148   2392  2.262195\n",
       "17       148   3028  3.733945\n",
       "18       148   1888  3.000000\n",
       "19       148   2874  3.510204\n",
       "20       148   3062  3.986348\n",
       "21       148   1016  3.228814\n",
       "22       148   2396  4.119298\n",
       "23       148   3703  3.683721\n",
       "24       148    673  2.634573\n",
       "25       148    593  4.359833\n",
       "26       148    597  3.671932\n",
       "27       148   1653  3.685484\n",
       "28       148   2797  3.862182\n",
       "29       148   3441  3.296954\n",
       "...      ...    ...       ...\n",
       "200179  2376   2745  3.527469\n",
       "200180  2376    144  3.171310\n",
       "200181  2376   3949  4.151720\n",
       "200182  2376   1044  2.999188\n",
       "200183  2376   1204  4.193201\n",
       "200184  2555   2023  2.817289\n",
       "200185  2555   1955  3.379818\n",
       "200186  2555   2628  2.726467\n",
       "200187  2555   3551  3.565174\n",
       "200188  3053   2455  2.947255\n",
       "200189  3053   3476  3.195085\n",
       "200190  3053   2716  2.904865\n",
       "200191  3053   1345  3.257633\n",
       "200192  3053   2160  3.743273\n",
       "200193  3053   2747  2.629044\n",
       "200194  4585   3175  3.963777\n",
       "200195  4585   3857  2.980510\n",
       "200196  4585   3793  4.240873\n",
       "200197  4585   1073  3.903620\n",
       "200198  4585    903  4.120227\n",
       "200199  4585   3424  3.581655\n",
       "200200  4585   3146  3.446718\n",
       "200201  4585   3578  4.406935\n",
       "200202  4585   2706  4.084644\n",
       "200203  5125    955  4.224862\n",
       "200204  5125   3739  4.062143\n",
       "200205  5125   1256  4.270528\n",
       "200206  5125   3307  4.353179\n",
       "200207  5125    905  4.252059\n",
       "200208  5125    947  4.186129\n",
       "\n",
       "[200209 rows x 3 columns]"
      ]
     },
     "execution_count": 111,
     "metadata": {},
     "output_type": "execute_result"
    }
   ],
   "source": [
    "preds_df2"
   ]
  },
  {
   "cell_type": "code",
   "execution_count": 101,
   "metadata": {
    "collapsed": true
   },
   "outputs": [],
   "source": [
    "pd.DataFrame.to_csv(preds_df2, 'submit.csv', na_rep='NaN', index=False)"
   ]
  },
  {
   "cell_type": "code",
   "execution_count": null,
   "metadata": {
    "collapsed": true
   },
   "outputs": [],
   "source": []
  }
 ],
 "metadata": {
  "anaconda-cloud": {},
  "kernelspec": {
   "display_name": "Python [conda root]",
   "language": "python",
   "name": "conda-root-py"
  },
  "language_info": {
   "codemirror_mode": {
    "name": "ipython",
    "version": 2
   },
   "file_extension": ".py",
   "mimetype": "text/x-python",
   "name": "python",
   "nbconvert_exporter": "python",
   "pygments_lexer": "ipython2",
   "version": "2.7.12"
  }
 },
 "nbformat": 4,
 "nbformat_minor": 1
}
