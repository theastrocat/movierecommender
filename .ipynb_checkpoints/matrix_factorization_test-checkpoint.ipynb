{
 "cells": [
  {
   "cell_type": "code",
   "execution_count": 1,
   "metadata": {
    "collapsed": true
   },
   "outputs": [],
   "source": [
    "import pyspark as ps\n",
    "from pyspark.sql import SparkSession\n",
    "from pyspark.ml.recommendation import ALS\n",
    "import pandas as pd\n",
    "import numpy as np"
   ]
  },
  {
   "cell_type": "code",
   "execution_count": 2,
   "metadata": {
    "collapsed": true
   },
   "outputs": [],
   "source": [
    "spark = SparkSession.builder.getOrCreate()"
   ]
  },
  {
   "cell_type": "code",
   "execution_count": 3,
   "metadata": {
    "collapsed": false
   },
   "outputs": [],
   "source": [
    "ratings_df = pd.read_csv('data/training.csv')\n",
    "train_df = ratings_df.sort_values('timestamp', ascending=True)[:-100000]"
   ]
  },
  {
   "cell_type": "code",
   "execution_count": 4,
   "metadata": {
    "collapsed": false
   },
   "outputs": [
    {
     "name": "stdout",
     "output_type": "stream",
     "text": [
      "<class 'pandas.core.frame.DataFrame'>\n",
      "RangeIndex: 800000 entries, 0 to 799999\n",
      "Data columns (total 4 columns):\n",
      "user         800000 non-null int64\n",
      "movie        800000 non-null int64\n",
      "rating       800000 non-null int64\n",
      "timestamp    800000 non-null int64\n",
      "dtypes: int64(4)\n",
      "memory usage: 24.4 MB\n"
     ]
    }
   ],
   "source": [
    "ratings_df.info()"
   ]
  },
  {
   "cell_type": "code",
   "execution_count": 5,
   "metadata": {
    "collapsed": false
   },
   "outputs": [],
   "source": [
    "ratings_spark_df = spark.createDataFrame(ratings_df)"
   ]
  },
  {
   "cell_type": "code",
   "execution_count": 6,
   "metadata": {
    "collapsed": true
   },
   "outputs": [],
   "source": [
    "ratings_spark_df = ratings_spark_df.drop('timestamp')"
   ]
  },
  {
   "cell_type": "code",
   "execution_count": 7,
   "metadata": {
    "collapsed": false
   },
   "outputs": [],
   "source": [
    "als_model = ALS(\n",
    "    itemCol='user',\n",
    "    userCol='movie',\n",
    "    ratingCol='rating',\n",
    "    nonnegative=True,    \n",
    "    regParam=0.1,\n",
    "    rank=10\n",
    "    )"
   ]
  },
  {
   "cell_type": "code",
   "execution_count": 10,
   "metadata": {
    "collapsed": true
   },
   "outputs": [],
   "source": [
    "from src.recommender import MovieRecommender as MR"
   ]
  },
  {
   "cell_type": "code",
   "execution_count": 11,
   "metadata": {
    "collapsed": true
   },
   "outputs": [],
   "source": [
    "ratings_fit = als_model.fit(ratings_spark_df)"
   ]
  },
  {
   "cell_type": "code",
   "execution_count": 12,
   "metadata": {
    "collapsed": true
   },
   "outputs": [],
   "source": [
    "requests = spark.read.csv('data/requests.csv')"
   ]
  },
  {
   "cell_type": "raw",
   "metadata": {},
   "source": []
  },
  {
   "cell_type": "code",
   "execution_count": 14,
   "metadata": {
    "collapsed": false
   },
   "outputs": [
    {
     "name": "stdout",
     "output_type": "stream",
     "text": [
      "+----+-----+------+----------+\n",
      "|user|movie|rating|prediction|\n",
      "+----+-----+------+----------+\n",
      "| 833|  593|     5| 4.2482715|\n",
      "| 833| 2840|     3| 3.2312734|\n",
      "| 833| 3798|     4| 3.8320644|\n",
      "| 833| 1517|     2| 2.7849631|\n",
      "| 833| 3827|     4| 3.6565695|\n",
      "| 833|  266|     5| 3.9061263|\n",
      "| 833| 1035|     5| 4.2161407|\n",
      "| 833|  316|     4|  3.681997|\n",
      "| 833|  318|     5|  4.504649|\n",
      "| 833| 1271|     4|  4.161791|\n",
      "| 833| 2688|     5| 3.6521587|\n",
      "| 833| 3101|     3|  3.915731|\n",
      "| 833|  527|     4|  4.604813|\n",
      "| 833| 1704|     4| 4.2295113|\n",
      "| 833| 2858|     5| 4.0516725|\n",
      "| 833|  457|     3| 4.1674733|\n",
      "| 833| 2028|     5| 4.3511543|\n",
      "| 833|  344|     2| 2.6099944|\n",
      "| 833| 2762|     4| 4.4686275|\n",
      "| 833| 1193|     5|   4.20213|\n",
      "+----+-----+------+----------+\n",
      "only showing top 20 rows\n",
      "\n"
     ]
    }
   ],
   "source": [
    "ratings_fit.transform(ratings_spark_df).show()"
   ]
  },
  {
   "cell_type": "code",
   "execution_count": null,
   "metadata": {
    "collapsed": true
   },
   "outputs": [],
   "source": []
  }
 ],
 "metadata": {
  "anaconda-cloud": {},
  "kernelspec": {
   "display_name": "Python [conda root]",
   "language": "python",
   "name": "conda-root-py"
  },
  "language_info": {
   "codemirror_mode": {
    "name": "ipython",
    "version": 2
   },
   "file_extension": ".py",
   "mimetype": "text/x-python",
   "name": "python",
   "nbconvert_exporter": "python",
   "pygments_lexer": "ipython2",
   "version": "2.7.12"
  }
 },
 "nbformat": 4,
 "nbformat_minor": 1
}
